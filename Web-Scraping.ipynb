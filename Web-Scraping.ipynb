{
 "cells": [
  {
   "cell_type": "code",
   "execution_count": 117,
   "metadata": {},
   "outputs": [],
   "source": [
    "# importando bibliotecas\n",
    "\n",
    "import pandas as pd\n",
    "from selenium import webdriver\n",
    "from selenium.webdriver.common.keys import Keys"
   ]
  },
  {
   "cell_type": "code",
   "execution_count": 118,
   "metadata": {},
   "outputs": [],
   "source": [
    "# criando o navegador\n",
    "\n",
    "driver = webdriver.Chrome()"
   ]
  },
  {
   "cell_type": "code",
   "execution_count": 119,
   "metadata": {},
   "outputs": [
    {
     "name": "stderr",
     "output_type": "stream",
     "text": [
      "<ipython-input-119-07a561f8a315>:4: DeprecationWarning: find_element_by_* commands are deprecated. Please use find_element() instead\n",
      "  driver.find_element_by_class_name('gLFyf').send_keys('cotação dólar')\n",
      "<ipython-input-119-07a561f8a315>:5: DeprecationWarning: find_element_by_* commands are deprecated. Please use find_element() instead\n",
      "  driver.find_element_by_class_name('gLFyf').send_keys(Keys.ENTER)\n"
     ]
    },
    {
     "name": "stdout",
     "output_type": "stream",
     "text": [
      "5.566599999999999\n"
     ]
    },
    {
     "name": "stderr",
     "output_type": "stream",
     "text": [
      "<ipython-input-119-07a561f8a315>:6: DeprecationWarning: find_elements_by_* commands are deprecated. Please use find_elements() instead\n",
      "  elemento_dolar = driver.find_elements_by_class_name('DFlfde')[1]\n"
     ]
    }
   ],
   "source": [
    "# pegando a cotação do dólar\n",
    "\n",
    "driver.get('https://www.google.com.br/')\n",
    "driver.find_element_by_class_name('gLFyf').send_keys('cotação dólar')\n",
    "driver.find_element_by_class_name('gLFyf').send_keys(Keys.ENTER)\n",
    "elemento_dolar = driver.find_elements_by_class_name('DFlfde')[1]\n",
    "cotacao_dolar = elemento_dolar.get_attribute('data-value')\n",
    "print(cotacao_dolar)"
   ]
  },
  {
   "cell_type": "code",
   "execution_count": 120,
   "metadata": {},
   "outputs": [
    {
     "name": "stderr",
     "output_type": "stream",
     "text": [
      "<ipython-input-120-b4adb649b4b9>:4: DeprecationWarning: find_element_by_* commands are deprecated. Please use find_element() instead\n",
      "  driver.find_element_by_class_name('gLFyf').send_keys('cotação euro')\n",
      "<ipython-input-120-b4adb649b4b9>:5: DeprecationWarning: find_element_by_* commands are deprecated. Please use find_element() instead\n",
      "  driver.find_element_by_class_name('gLFyf').send_keys(Keys.ENTER)\n",
      "<ipython-input-120-b4adb649b4b9>:6: DeprecationWarning: find_elements_by_* commands are deprecated. Please use find_elements() instead\n",
      "  elemento_euro = driver.find_elements_by_class_name('DFlfde')[1]\n"
     ]
    },
    {
     "name": "stdout",
     "output_type": "stream",
     "text": [
      "6.31543611\n"
     ]
    }
   ],
   "source": [
    "# pegando a cotação do euro\n",
    "\n",
    "driver.get('https://www.google.com.br/')\n",
    "driver.find_element_by_class_name('gLFyf').send_keys('cotação euro')\n",
    "driver.find_element_by_class_name('gLFyf').send_keys(Keys.ENTER)\n",
    "elemento_euro = driver.find_elements_by_class_name('DFlfde')[1]\n",
    "cotacao_euro = elemento_euro.get_attribute('data-value')\n",
    "print(cotacao_euro)"
   ]
  },
  {
   "cell_type": "code",
   "execution_count": 121,
   "metadata": {},
   "outputs": [
    {
     "name": "stderr",
     "output_type": "stream",
     "text": [
      "<ipython-input-121-85e7bbb0aadc>:4: DeprecationWarning: find_element_by_* commands are deprecated. Please use find_element() instead\n",
      "  elemento_ouro = driver.find_element_by_id('comercial')\n"
     ]
    },
    {
     "name": "stdout",
     "output_type": "stream",
     "text": [
      "324,68\n"
     ]
    }
   ],
   "source": [
    "# pegando a cotação do ouro\n",
    "\n",
    "driver.get('https://www.melhorcambio.com/ouro-hoje')\n",
    "elemento_ouro = driver.find_element_by_id('comercial')\n",
    "cotacao_ouro = elemento_ouro.get_attribute(\"value\")\n",
    "print(cotacao_ouro)"
   ]
  },
  {
   "cell_type": "code",
   "execution_count": 122,
   "metadata": {},
   "outputs": [],
   "source": [
    "# fechando o navegador\n",
    "\n",
    "driver.close()"
   ]
  },
  {
   "cell_type": "markdown",
   "metadata": {},
   "source": [
    "- Atualizando os preços e o cálculo do Preço Final"
   ]
  },
  {
   "cell_type": "code",
   "execution_count": 123,
   "metadata": {
    "scrolled": true
   },
   "outputs": [
    {
     "data": {
      "text/html": [
       "<div>\n",
       "<style scoped>\n",
       "    .dataframe tbody tr th:only-of-type {\n",
       "        vertical-align: middle;\n",
       "    }\n",
       "\n",
       "    .dataframe tbody tr th {\n",
       "        vertical-align: top;\n",
       "    }\n",
       "\n",
       "    .dataframe thead th {\n",
       "        text-align: right;\n",
       "    }\n",
       "</style>\n",
       "<table border=\"1\" class=\"dataframe\">\n",
       "  <thead>\n",
       "    <tr style=\"text-align: right;\">\n",
       "      <th></th>\n",
       "      <th>Produtos</th>\n",
       "      <th>Preço Base Original</th>\n",
       "      <th>Moeda</th>\n",
       "      <th>Cotação</th>\n",
       "      <th>Preço Base Reais</th>\n",
       "      <th>Ajuste</th>\n",
       "      <th>Preço Final</th>\n",
       "    </tr>\n",
       "  </thead>\n",
       "  <tbody>\n",
       "    <tr>\n",
       "      <th>0</th>\n",
       "      <td>Câmera Canon</td>\n",
       "      <td>999.99</td>\n",
       "      <td>Dólar</td>\n",
       "      <td>5</td>\n",
       "      <td>4999.95</td>\n",
       "      <td>1.40</td>\n",
       "      <td>6999.930</td>\n",
       "    </tr>\n",
       "    <tr>\n",
       "      <th>1</th>\n",
       "      <td>Carro Renault</td>\n",
       "      <td>4500.00</td>\n",
       "      <td>Euro</td>\n",
       "      <td>6</td>\n",
       "      <td>27000.00</td>\n",
       "      <td>2.00</td>\n",
       "      <td>54000.000</td>\n",
       "    </tr>\n",
       "    <tr>\n",
       "      <th>2</th>\n",
       "      <td>Notebook Dell</td>\n",
       "      <td>899.99</td>\n",
       "      <td>Dólar</td>\n",
       "      <td>5</td>\n",
       "      <td>4499.95</td>\n",
       "      <td>1.70</td>\n",
       "      <td>7649.915</td>\n",
       "    </tr>\n",
       "    <tr>\n",
       "      <th>3</th>\n",
       "      <td>IPhone</td>\n",
       "      <td>799.00</td>\n",
       "      <td>Dólar</td>\n",
       "      <td>5</td>\n",
       "      <td>3995.00</td>\n",
       "      <td>1.70</td>\n",
       "      <td>6791.500</td>\n",
       "    </tr>\n",
       "    <tr>\n",
       "      <th>4</th>\n",
       "      <td>Carro Fiat</td>\n",
       "      <td>3000.00</td>\n",
       "      <td>Euro</td>\n",
       "      <td>6</td>\n",
       "      <td>18000.00</td>\n",
       "      <td>1.90</td>\n",
       "      <td>34200.000</td>\n",
       "    </tr>\n",
       "    <tr>\n",
       "      <th>5</th>\n",
       "      <td>Celular Xiaomi</td>\n",
       "      <td>480.48</td>\n",
       "      <td>Dólar</td>\n",
       "      <td>5</td>\n",
       "      <td>2402.40</td>\n",
       "      <td>2.00</td>\n",
       "      <td>4804.800</td>\n",
       "    </tr>\n",
       "    <tr>\n",
       "      <th>6</th>\n",
       "      <td>Joia 20g</td>\n",
       "      <td>20.00</td>\n",
       "      <td>Ouro</td>\n",
       "      <td>350</td>\n",
       "      <td>7000.00</td>\n",
       "      <td>1.15</td>\n",
       "      <td>8050.000</td>\n",
       "    </tr>\n",
       "  </tbody>\n",
       "</table>\n",
       "</div>"
      ],
      "text/plain": [
       "         Produtos  Preço Base Original  Moeda  Cotação  Preço Base Reais  \\\n",
       "0    Câmera Canon               999.99  Dólar        5           4999.95   \n",
       "1   Carro Renault              4500.00   Euro        6          27000.00   \n",
       "2   Notebook Dell               899.99  Dólar        5           4499.95   \n",
       "3          IPhone               799.00  Dólar        5           3995.00   \n",
       "4      Carro Fiat              3000.00   Euro        6          18000.00   \n",
       "5  Celular Xiaomi               480.48  Dólar        5           2402.40   \n",
       "6        Joia 20g                20.00   Ouro      350           7000.00   \n",
       "\n",
       "   Ajuste  Preço Final  \n",
       "0    1.40     6999.930  \n",
       "1    2.00    54000.000  \n",
       "2    1.70     7649.915  \n",
       "3    1.70     6791.500  \n",
       "4    1.90    34200.000  \n",
       "5    2.00     4804.800  \n",
       "6    1.15     8050.000  "
      ]
     },
     "metadata": {},
     "output_type": "display_data"
    }
   ],
   "source": [
    "# importando a base de dados\n",
    "\n",
    "produtos_df = pd.read_excel(r\"C:\\Users\\Ariel\\Documents\\PYTHON HASHTAG\\SEMANA PYTHON\\AULA 4\\Produtos.xlsx\")\n",
    "display(produtos_df)"
   ]
  },
  {
   "cell_type": "code",
   "execution_count": 124,
   "metadata": {},
   "outputs": [
    {
     "data": {
      "text/html": [
       "<div>\n",
       "<style scoped>\n",
       "    .dataframe tbody tr th:only-of-type {\n",
       "        vertical-align: middle;\n",
       "    }\n",
       "\n",
       "    .dataframe tbody tr th {\n",
       "        vertical-align: top;\n",
       "    }\n",
       "\n",
       "    .dataframe thead th {\n",
       "        text-align: right;\n",
       "    }\n",
       "</style>\n",
       "<table border=\"1\" class=\"dataframe\">\n",
       "  <thead>\n",
       "    <tr style=\"text-align: right;\">\n",
       "      <th></th>\n",
       "      <th>Produtos</th>\n",
       "      <th>Preço Base Original</th>\n",
       "      <th>Moeda</th>\n",
       "      <th>Cotação</th>\n",
       "      <th>Preço Base Reais</th>\n",
       "      <th>Ajuste</th>\n",
       "      <th>Preço Final</th>\n",
       "    </tr>\n",
       "  </thead>\n",
       "  <tbody>\n",
       "    <tr>\n",
       "      <th>0</th>\n",
       "      <td>Câmera Canon</td>\n",
       "      <td>999.99</td>\n",
       "      <td>Dólar</td>\n",
       "      <td>5.567</td>\n",
       "      <td>5566.94433</td>\n",
       "      <td>1.40</td>\n",
       "      <td>7793.722062</td>\n",
       "    </tr>\n",
       "    <tr>\n",
       "      <th>1</th>\n",
       "      <td>Carro Renault</td>\n",
       "      <td>4500.00</td>\n",
       "      <td>Euro</td>\n",
       "      <td>6.315</td>\n",
       "      <td>28417.50000</td>\n",
       "      <td>2.00</td>\n",
       "      <td>56835.000000</td>\n",
       "    </tr>\n",
       "    <tr>\n",
       "      <th>2</th>\n",
       "      <td>Notebook Dell</td>\n",
       "      <td>899.99</td>\n",
       "      <td>Dólar</td>\n",
       "      <td>5.567</td>\n",
       "      <td>5010.24433</td>\n",
       "      <td>1.70</td>\n",
       "      <td>8517.415361</td>\n",
       "    </tr>\n",
       "    <tr>\n",
       "      <th>3</th>\n",
       "      <td>IPhone</td>\n",
       "      <td>799.00</td>\n",
       "      <td>Dólar</td>\n",
       "      <td>5.567</td>\n",
       "      <td>4448.03300</td>\n",
       "      <td>1.70</td>\n",
       "      <td>7561.656100</td>\n",
       "    </tr>\n",
       "    <tr>\n",
       "      <th>4</th>\n",
       "      <td>Carro Fiat</td>\n",
       "      <td>3000.00</td>\n",
       "      <td>Euro</td>\n",
       "      <td>6.315</td>\n",
       "      <td>18945.00000</td>\n",
       "      <td>1.90</td>\n",
       "      <td>35995.500000</td>\n",
       "    </tr>\n",
       "    <tr>\n",
       "      <th>5</th>\n",
       "      <td>Celular Xiaomi</td>\n",
       "      <td>480.48</td>\n",
       "      <td>Dólar</td>\n",
       "      <td>5.567</td>\n",
       "      <td>2674.83216</td>\n",
       "      <td>2.00</td>\n",
       "      <td>5349.664320</td>\n",
       "    </tr>\n",
       "    <tr>\n",
       "      <th>6</th>\n",
       "      <td>Joia 20g</td>\n",
       "      <td>20.00</td>\n",
       "      <td>Ouro</td>\n",
       "      <td>324.680</td>\n",
       "      <td>6493.60000</td>\n",
       "      <td>1.15</td>\n",
       "      <td>7467.640000</td>\n",
       "    </tr>\n",
       "  </tbody>\n",
       "</table>\n",
       "</div>"
      ],
      "text/plain": [
       "         Produtos  Preço Base Original  Moeda  Cotação  Preço Base Reais  \\\n",
       "0    Câmera Canon               999.99  Dólar    5.567        5566.94433   \n",
       "1   Carro Renault              4500.00   Euro    6.315       28417.50000   \n",
       "2   Notebook Dell               899.99  Dólar    5.567        5010.24433   \n",
       "3          IPhone               799.00  Dólar    5.567        4448.03300   \n",
       "4      Carro Fiat              3000.00   Euro    6.315       18945.00000   \n",
       "5  Celular Xiaomi               480.48  Dólar    5.567        2674.83216   \n",
       "6        Joia 20g                20.00   Ouro  324.680        6493.60000   \n",
       "\n",
       "   Ajuste   Preço Final  \n",
       "0    1.40   7793.722062  \n",
       "1    2.00  56835.000000  \n",
       "2    1.70   8517.415361  \n",
       "3    1.70   7561.656100  \n",
       "4    1.90  35995.500000  \n",
       "5    2.00   5349.664320  \n",
       "6    1.15   7467.640000  "
      ]
     },
     "metadata": {},
     "output_type": "display_data"
    }
   ],
   "source": [
    "# atualizando a base de dados com os novos valores\n",
    "\n",
    "for linha in produtos_df.index:\n",
    "    if produtos_df.loc[linha, 'Moeda'] == 'Dólar':\n",
    "        produtos_df.loc[linha, 'Cotação'] = round(float(cotacao_dolar),3)\n",
    "    elif produtos_df.loc[linha, 'Moeda'] == 'Euro':\n",
    "        produtos_df.loc[linha, 'Cotação'] = round(float(cotacao_euro),3)\n",
    "    elif produtos_df.loc[linha, 'Moeda'] == 'Ouro':\n",
    "        produtos_df.loc[linha, 'Cotação'] = round(float(cotacao_ouro.replace(',', '.')),3)\n",
    "        \n",
    "\n",
    "produtos_df['Preço Base Reais'] = produtos_df['Preço Base Original']*produtos_df['Cotação']\n",
    "produtos_df['Preço Final'] = produtos_df['Preço Base Reais']*produtos_df['Ajuste']\n",
    "\n",
    "display(produtos_df)"
   ]
  },
  {
   "cell_type": "markdown",
   "metadata": {},
   "source": [
    "### Agora vamos exportar a nova base de preços atualizada"
   ]
  },
  {
   "cell_type": "code",
   "execution_count": 125,
   "metadata": {},
   "outputs": [
    {
     "name": "stdout",
     "output_type": "stream",
     "text": [
      "Planilha atualizada com sucesso!\n"
     ]
    }
   ],
   "source": [
    "# salvando a base de dados atualizada\n",
    "\n",
    "produtos_df.to_excel('Produtos Atualizada.xlsx', index=False)\n",
    "print('Planilha atualizada com sucesso!')"
   ]
  }
 ],
 "metadata": {
  "kernelspec": {
   "display_name": "Python 3",
   "language": "python",
   "name": "python3"
  },
  "language_info": {
   "codemirror_mode": {
    "name": "ipython",
    "version": 3
   },
   "file_extension": ".py",
   "mimetype": "text/x-python",
   "name": "python",
   "nbconvert_exporter": "python",
   "pygments_lexer": "ipython3",
   "version": "3.8.8"
  }
 },
 "nbformat": 4,
 "nbformat_minor": 4
}
